{
 "cells": [
  {
   "cell_type": "code",
   "execution_count": 57,
   "metadata": {},
   "outputs": [],
   "source": [
    "import os\n",
    "import shutil\n",
    "from sklearn.model_selection import train_test_split\n",
    "\n",
    "# 경로 설정\n",
    "dataset_path = './Datasets/fish/'\n",
    "images_path = os.path.join(dataset_path, 'images/')\n",
    "labels_path = os.path.join(dataset_path, 'labels/')\n",
    "\n",
    "# 이미지 및 라벨 디렉토리 확인\n",
    "if not os.path.exists(images_path):\n",
    "    raise FileNotFoundError(f\"이미지 경로가 존재하지 않습니다: {images_path}\")\n",
    "if not os.path.exists(labels_path):\n",
    "    raise FileNotFoundError(f\"라벨 경로가 존재하지 않습니다: {labels_path}\")\n",
    "\n",
    "# 이미지 및 라벨 파일 리스트 얻기\n",
    "image_files = [f for f in os.listdir(images_path) if os.path.isfile(os.path.join(images_path, f))]\n",
    "label_files = [f for f in os.listdir(labels_path) if os.path.isfile(os.path.join(labels_path, f))]\n",
    "\n",
    "# 이미지와 라벨 파일을 정렬하여 일치시키기\n",
    "image_files.sort()\n",
    "label_files.sort()\n",
    "\n",
    "# 데이터셋을 train(80%) 및 test(20%) 세트로 분할\n",
    "train_images, test_images, train_labels, test_labels = train_test_split(\n",
    "    image_files, label_files, test_size=0.2, random_state=42\n",
    ")\n",
    "\n",
    "# train 및 test 데이터셋 디렉토리 생성\n",
    "train_images_path = os.path.join(images_path, 'train')\n",
    "test_images_path = os.path.join(images_path, 'test')\n",
    "train_labels_path = os.path.join(labels_path, 'train')\n",
    "test_labels_path = os.path.join(labels_path, 'test')\n",
    "\n",
    "os.makedirs(train_images_path, exist_ok=True)\n",
    "os.makedirs(test_images_path, exist_ok=True)\n",
    "os.makedirs(train_labels_path, exist_ok=True)\n",
    "os.makedirs(test_labels_path, exist_ok=True)\n",
    "\n",
    "# 파일을 각 디렉토리로 이동\n",
    "for img in train_images:\n",
    "    shutil.move(os.path.join(images_path, img), os.path.join(train_images_path, img))\n",
    "for img in test_images:\n",
    "    shutil.move(os.path.join(images_path, img), os.path.join(test_images_path, img))\n",
    "for lbl in train_labels:\n",
    "    shutil.move(os.path.join(labels_path, lbl), os.path.join(train_labels_path, lbl))\n",
    "for lbl in test_labels:\n",
    "    shutil.move(os.path.join(labels_path, lbl), os.path.join(test_labels_path, lbl))"
   ]
  },
  {
   "cell_type": "code",
   "execution_count": null,
   "metadata": {},
   "outputs": [],
   "source": [
    "# YOLO 모델 학습\n",
    "from ultralytics import YOLO\n",
    "\n",
    "model = YOLO('yolov8n-seg.pt')\n",
    "path = 'path'\n",
    "results = model.train(\n",
    "    data='path',\n",
    "    epochs=10,\n",
    "    imgsz=640,\n",
    "    batch=32\n",
    ")"
   ]
  }
 ],
 "metadata": {
  "kernelspec": {
   "display_name": "yolo_venv",
   "language": "python",
   "name": "python3"
  },
  "language_info": {
   "codemirror_mode": {
    "name": "ipython",
    "version": 3
   },
   "file_extension": ".py",
   "mimetype": "text/x-python",
   "name": "python",
   "nbconvert_exporter": "python",
   "pygments_lexer": "ipython3",
   "version": "3.10.14"
  }
 },
 "nbformat": 4,
 "nbformat_minor": 2
}
