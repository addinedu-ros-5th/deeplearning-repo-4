{
 "cells": [
  {
   "cell_type": "code",
   "execution_count": 1,
   "metadata": {},
   "outputs": [
    {
     "name": "stderr",
     "output_type": "stream",
     "text": [
      "/tmp/ipykernel_15636/4215133018.py:2: DeprecationWarning: \n",
      "Pyarrow will become a required dependency of pandas in the next major release of pandas (pandas 3.0),\n",
      "(to allow more performant data types, such as the Arrow string type, and better interoperability with other libraries)\n",
      "but was not found to be installed on your system.\n",
      "If this would cause problems for you,\n",
      "please provide us feedback at https://github.com/pandas-dev/pandas/issues/54466\n",
      "        \n",
      "  import pandas as pd\n"
     ]
    }
   ],
   "source": [
    "import mysql.connector\n",
    "import pandas as pd"
   ]
  },
  {
   "cell_type": "code",
   "execution_count": 2,
   "metadata": {},
   "outputs": [],
   "source": [
    "dldb = mysql.connector.Connect(\n",
    "    host = \"server\",\n",
    "    port = \"3306\",\n",
    "    user = \"username\",\n",
    "    password = \"****\",\n",
    "    database = \"database\",\n",
    "    use_unicode=True\n",
    ")"
   ]
  },
  {
   "cell_type": "code",
   "execution_count": 11,
   "metadata": {},
   "outputs": [],
   "source": [
    "cursor = dldb.cursor()\n",
    "create_table_query = \"\"\"\n",
    "CREATE TABLE IF NOT EXISTS auction_price_data (\n",
    "        species VARCHAR(16),\n",
    "        origin VARCHAR(16),\n",
    "        size VARCHAR(16),\n",
    "        packaging VARCHAR(16),\n",
    "        quantity FLOAT,\n",
    "        highest FLOAT,\n",
    "        lowest FLOAT,\n",
    "        average FLOAT,\n",
    "        date DATE\n",
    "    )\n",
    "    \"\"\"\n",
    "cursor.execute(create_table_query)\n"
   ]
  },
  {
   "cell_type": "code",
   "execution_count": 5,
   "metadata": {},
   "outputs": [],
   "source": [
    "\n",
    "import os\n",
    "from datetime import datetime, timedelta\n",
    "\n",
    "start_date = datetime.strptime('2024-02-04', '%Y-%m-%d')\n",
    "end_date = datetime.strptime('2024-06-06', '%Y-%m-%d')\n",
    "delta = timedelta(days=1)\n",
    "cursor = dldb.cursor()\n",
    "csv_file_template = './{:04d}/{:02d}/{:04d}-{:02d}-{:02d}.csv'\n",
    "current_date = start_date\n",
    "\n",
    "while current_date <= end_date:\n",
    "    csv_file_path = csv_file_template.format(current_date.year, current_date.month, current_date.year, current_date.month, current_date.day)\n",
    "    if os.path.exists(csv_file_path):\n",
    "        df = pd.read_csv(csv_file_path, header=None, thousands=',',encoding='utf-8')\n",
    "        df.columns = ['species', 'origin', 'size', 'packaging', 'quantity', 'highest', 'lowest', 'average', 'date']\n",
    "        for index, row in df.iterrows():\n",
    "            insert_query = \"\"\"\n",
    "            INSERT INTO auction_price_data (species, origin, size, packaging, quantity, highest, lowest, average, date)\n",
    "            VALUES (%s, %s, %s, %s, %s, %s, %s, %s, %s)\n",
    "            \"\"\"\n",
    "            cursor.execute(insert_query, tuple(row))\n",
    "        dldb.commit()\n",
    "    current_date += delta\n",
    "cursor.close()\n",
    "dldb.close()"
   ]
  }
 ],
 "metadata": {
  "kernelspec": {
   "display_name": "myvenv",
   "language": "python",
   "name": "python3"
  },
  "language_info": {
   "codemirror_mode": {
    "name": "ipython",
    "version": 3
   },
   "file_extension": ".py",
   "mimetype": "text/x-python",
   "name": "python",
   "nbconvert_exporter": "python",
   "pygments_lexer": "ipython3",
   "version": "3.10.12"
  }
 },
 "nbformat": 4,
 "nbformat_minor": 2
}
