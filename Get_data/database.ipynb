{
 "cells": [
  {
   "cell_type": "code",
   "execution_count": 10,
   "metadata": {},
   "outputs": [],
   "source": [
    "import mysql.connector\n",
    "import pandas as pd"
   ]
  },
  {
   "cell_type": "code",
   "execution_count": 11,
   "metadata": {},
   "outputs": [],
   "source": [
    "dldb = mysql.connector.Connect(\n",
    "    host = \"server\",\n",
    "    port = \"3306\",\n",
    "    user = \"user\",\n",
    "    password = \"****\",\n",
    "    database = \"database\",\n",
    "    use_unicode=True\n",
    ")"
   ]
  },
  {
   "cell_type": "code",
   "execution_count": 11,
   "metadata": {},
   "outputs": [],
   "source": [
    "cursor = dldb.cursor()\n",
    "create_table_query = \"\"\"\n",
    "CREATE TABLE IF NOT EXISTS auction_price_data (\n",
    "        species VARCHAR(16),\n",
    "        origin VARCHAR(16),\n",
    "        size VARCHAR(16),\n",
    "        packaging VARCHAR(16),\n",
    "        quantity FLOAT,\n",
    "        highest FLOAT,\n",
    "        lowest FLOAT,\n",
    "        average FLOAT,\n",
    "        date DATE\n",
    "    )\n",
    "    \"\"\"\n",
    "cursor.execute(create_table_query)\n"
   ]
  },
  {
   "cell_type": "code",
   "execution_count": 12,
   "metadata": {},
   "outputs": [],
   "source": [
    "\n",
    "import os\n",
    "from datetime import datetime, timedelta\n",
    "\n",
    "start_date = datetime.strptime('2022-01-01', '%Y-%m-%d')\n",
    "end_date = datetime.strptime('2022-12-31', '%Y-%m-%d')\n",
    "delta = timedelta(days=1)\n",
    "cursor = dldb.cursor()\n",
    "csv_file_template = './{:04d}/{:02d}/{:04d}-{:02d}-{:02d}.csv'\n",
    "current_date = start_date\n",
    "\n",
    "while current_date <= end_date:\n",
    "    csv_file_path = csv_file_template.format(current_date.year, current_date.month, current_date.year, current_date.month, current_date.day)\n",
    "    if os.path.exists(csv_file_path):\n",
    "        try :\n",
    "            df = pd.read_csv(csv_file_path, header=None, thousands=',',encoding='utf-8')\n",
    "            df.columns = ['species', 'origin', 'size', 'packaging', 'quantity', 'highest', 'lowest', 'average', 'date']\n",
    "            for index, row in df.iterrows():\n",
    "                insert_query = \"\"\"\n",
    "                INSERT INTO auction_price_data (species, origin, size, packaging, quantity, highest, lowest, average, date)\n",
    "                VALUES (%s, %s, %s, %s, %s, %s, %s, %s, %s)\n",
    "                \"\"\"\n",
    "                cursor.execute(insert_query, tuple(row))\n",
    "            dldb.commit()\n",
    "        except :\n",
    "            pass\n",
    "    current_date += delta\n",
    "cursor.close()\n",
    "dldb.close()"
   ]
  },
  {
   "cell_type": "code",
   "execution_count": null,
   "metadata": {},
   "outputs": [],
   "source": []
  }
 ],
 "metadata": {
  "kernelspec": {
   "display_name": "myvenv",
   "language": "python",
   "name": "python3"
  },
  "language_info": {
   "codemirror_mode": {
    "name": "ipython",
    "version": 3
   },
   "file_extension": ".py",
   "mimetype": "text/x-python",
   "name": "python",
   "nbconvert_exporter": "python",
   "pygments_lexer": "ipython3",
   "version": "3.10.12"
  }
 },
 "nbformat": 4,
 "nbformat_minor": 2
}
