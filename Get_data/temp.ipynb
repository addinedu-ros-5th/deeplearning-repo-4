{
 "cells": [
  {
   "cell_type": "code",
   "execution_count": 3,
   "metadata": {},
   "outputs": [],
   "source": [
    "import pandas as pd\n",
    "import json\n",
    "import folium\n",
    "import numpy as np\n",
    "from selenium import webdriver\n",
    "from selenium.webdriver.chrome.service import Service\n",
    "from selenium.webdriver.common.by import By\n",
    "from selenium.webdriver.common.keys import Keys\n",
    "from tqdm.notebook import tqdm\n",
    "import time"
   ]
  },
  {
   "cell_type": "code",
   "execution_count": 8,
   "metadata": {},
   "outputs": [],
   "source": [
    "Susansijang = webdriver.Chrome(service=Service(\"/home/han/Desktop/Han_ws/00.Data/01.EDA/driver/chromedriver\"))\n",
    "Susansijang.maximize_window()\n",
    "Susansijang.get(\"https://www.susansijang.co.kr/nsis/mim/info/mim9030\")\n",
    "Susansijang.implicitly_wait(5)"
   ]
  },
  {
   "cell_type": "code",
   "execution_count": 36,
   "metadata": {},
   "outputs": [],
   "source": [
    "specie_name_list = Susansijang.find_element(By.ID,\"fishing_species\")\n",
    "specie_names = specie_name_list.find_elements(By.TAG_NAME,\"option\")\n",
    "species = [specie.text for specie in specie_names]"
   ]
  },
  {
   "cell_type": "code",
   "execution_count": 52,
   "metadata": {},
   "outputs": [
    {
     "data": {
      "text/plain": [
       "['(활)갑오징어 서천 1미 미(마리) 65 13,000 5,000 7,800',\n",
       " '(활)개조개 통영 14미 box 1 51,500 51,500 51,500',\n",
       " '(선)깐홍합 여수 소 box 63 10,500 5,500 7,500',\n",
       " '(선)꼴뚜기 여수 10봉 봉지 110 8,800 7,800 8,200',\n",
       " '(활)농어 격포 중 kg 87.6 18,000 1,500 15,000',\n",
       " '(활)돌게 태안 중 kg 19 5,600 5,600 5,600',\n",
       " '(활)민어 완도 중 kg 209.9 37,000 17,000 27,200',\n",
       " '(선)병어 완도 1미 미(마리) 23 4,000 2,500 3,300',\n",
       " '(활)보리새우 통영 1미 kg 5 10,000 10,000 10,000',\n",
       " '(선)복어 안흥 20미 S/P 8.6 3,000 3,000 3,000',\n",
       " '(냉)아귀 중국 5미 CT/(BT) 30 30,800 30,800 30,800',\n",
       " '(활)암꽃게 태안 중소 kg 289 12,000 11,700 12,000',\n",
       " '(냉)염고등어 노르웨이 대 CT/(BT) 100 36,500 36,500 36,500',\n",
       " '(활)우럭조개 여수 6미 미(마리) 18 10,700 10,000 10,500',\n",
       " '(선)은갈치 제주도 11미 S/P 1 90,000 90,000 90,000',\n",
       " '(선)은갈치 제주도 6미 S/P 5 246,000 242,000 242,800',\n",
       " '(활)전복 완도 22미 kg 12 12,500 12,500 12,500',\n",
       " '(활)전복 완도 10/11미 kg 333.4 20,500 15,000 16,100',\n",
       " '(선)참가자미 안흥 27미 S/P 1 50,000 50,000 50,000',\n",
       " '(선)참돔 서천 중 kg 78.1 10,000 8,000 9,200']"
      ]
     },
     "execution_count": 52,
     "metadata": {},
     "output_type": "execute_result"
    }
   ],
   "source": [
    "auction_box = Susansijang.find_element(By.TAG_NAME,\"tbody\")\n",
    "auction_row = auction_box.find_elements(By.TAG_NAME,\"tr\")\n",
    "auction = auction_row[0].text\n",
    "auction_list = [auction.text for auction in auction_row]\n",
    "auction_list"
   ]
  },
  {
   "cell_type": "code",
   "execution_count": null,
   "metadata": {},
   "outputs": [],
   "source": [
    "sido = gasStation.find_element(By.ID,\"SIDO_NM0\")\n",
    "sido_list = sido.find_elements(By.TAG_NAME,\"option\")\n",
    "sido_names = [sido_name.get_attribute(\"value\") for sido_name in sido_list]\n",
    "sido_names = sido_names[1:]\n",
    "sido.send_keys(sido_names[0])\n",
    "\n",
    "sigungu = gasStation.find_element(By.ID, \"SIGUNGU_NM0\")   #select seoul\n",
    "sigungu_list = sigungu.find_elements(By.TAG_NAME,\"option\")\n",
    "sigungu_names = [sigungu_name.get_attribute(\"value\") for sigungu_name in sigungu_list]\n",
    "sigungu_names = sigungu_names[1:]\n",
    "\n",
    "station_info_list = []\n",
    "\n",
    "# district\n",
    "for sigungu_name in tqdm(sigungu_names) :\n",
    "    \n",
    "    sigungu = gasStation.find_element(By.ID, \"SIGUNGU_NM0\")\n",
    "    sigungu.send_keys(sigungu_name)\n",
    "    gasStation.implicitly_wait(1)\n",
    "\n",
    "    # number of gas stations\n",
    "    station_count = gasStation.find_element(By.ID,\"totCnt\")\n",
    "    station_count = int(station_count.text) \n",
    "    \n",
    "    # body1 : gasoline, body2 : premium gasoline, body3 : disel, body4 : paraffin\n",
    "    gasoline = gasStation.find_element(By.ID,\"body1\")       \n",
    "    station_list= gasoline.find_elements(By.TAG_NAME, \"a\") \n",
    "\n",
    "    for count in range(station_count): \n",
    "    \n",
    "        station_list[count].click()                                          \n",
    "\n",
    "        # information gathering\n",
    "        station_name    = gasStation.execute_script(f'return document.getElementById(\"{\"os_nm\"}\").innerHTML;')                     # name\n",
    "        station_number  = gasStation.execute_script(f'return document.getElementById(\"{\"phn_no\"}\").innerHTML;')                    # number\n",
    "        station_address = gasStation.execute_script(f'return document.getElementById(\"{\"rd_addr\"}\").innerHTML;').split(maxsplit=2) # address\n",
    "        station_brand   = gasStation.execute_script(f'return document.getElementById(\"{\"poll_div_nm\"}\").innerHTML;')               # brand\n",
    "        station_sigungu = station_address[1]\n",
    "        station_address = station_address[2]\n",
    "\n",
    "        station_price = [                                                                               # price\n",
    "            gasStation.execute_script(f'return document.getElementById(\"{\"b034_p\"}\").innerHTML;'),      # premium gasoline\n",
    "            gasStation.execute_script(f'return document.getElementById(\"{\"b027_p\"}\").innerHTML;'),      # gasoline\n",
    "            gasStation.execute_script(f'return document.getElementById(\"{\"d047_p\"}\").innerHTML;'),      # disel\n",
    "            gasStation.execute_script(f'return document.getElementById(\"{\"c004_p\"}\").innerHTML;')       # paraffin\n",
    "        ]\n",
    "\n",
    "        # popup detail information page\n",
    "        station_detail_info = gasStation.find_element(By.ID,\"os_dtail_info\")    \n",
    "\n",
    "        # additional service car wash, charging, maintenance, convenience, 24/7\n",
    "        service_list = [\"cwsh_yn\", \"lpg_yn\", \"maint_yn\", \"cvs_yn\", \"sel24_yn\"]\n",
    "        station_service = [\"X\"] * len(service_list)\n",
    "\n",
    "        for service in service_list :                                           \n",
    "            if 'off' not in station_detail_info.find_element(By.ID,service).get_attribute(\"src\"):   station_service[service_list.index(service)]=\"O\"\n",
    "\n",
    "        # data merge \n",
    "        station_info = [station_sigungu, station_brand, station_name, station_address, station_number] \n",
    "        station_info.extend(station_price)\n",
    "        station_info.extend(station_service)\n",
    "        station_info_list.append(station_info)\n"
   ]
  },
  {
   "cell_type": "code",
   "execution_count": 53,
   "metadata": {},
   "outputs": [],
   "source": [
    "Susansijang.quit()"
   ]
  },
  {
   "cell_type": "code",
   "execution_count": null,
   "metadata": {},
   "outputs": [],
   "source": []
  }
 ],
 "metadata": {
  "kernelspec": {
   "display_name": "Python 3",
   "language": "python",
   "name": "python3"
  },
  "language_info": {
   "codemirror_mode": {
    "name": "ipython",
    "version": 3
   },
   "file_extension": ".py",
   "mimetype": "text/x-python",
   "name": "python",
   "nbconvert_exporter": "python",
   "pygments_lexer": "ipython3",
   "version": "3.10.12"
  }
 },
 "nbformat": 4,
 "nbformat_minor": 2
}
