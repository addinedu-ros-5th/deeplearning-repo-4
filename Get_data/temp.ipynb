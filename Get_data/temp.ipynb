{
 "cells": [
  {
   "cell_type": "code",
   "execution_count": 139,
   "metadata": {},
   "outputs": [],
   "source": [
    "import pandas as pd\n",
    "import json\n",
    "import folium\n",
    "import os\n",
    "import numpy as np\n",
    "from selenium import webdriver\n",
    "from selenium.webdriver.chrome.service import Service\n",
    "from selenium.webdriver.common.by import By\n",
    "from selenium.webdriver.common.keys import Keys\n",
    "from tqdm.notebook import tqdm\n",
    "import time"
   ]
  },
  {
   "cell_type": "code",
   "execution_count": 119,
   "metadata": {},
   "outputs": [],
   "source": [
    "Susansijang = webdriver.Chrome(service=Service(\"/home/han/Desktop/Han_ws/00.Data/01.EDA/driver/chromedriver\"))\n",
    "Susansijang.maximize_window()\n",
    "Susansijang.get(\"https://www.susansijang.co.kr/nsis/mim/info/mim9030\")\n",
    "Susansijang.implicitly_wait(5)"
   ]
  },
  {
   "cell_type": "code",
   "execution_count": 3,
   "metadata": {},
   "outputs": [],
   "source": [
    "specie_name_list = Susansijang.find_element(By.ID,\"fishing_species\")\n",
    "specie_names = specie_name_list.find_elements(By.TAG_NAME,\"option\")\n",
    "species = [specie.text for specie in specie_names]"
   ]
  },
  {
   "cell_type": "code",
   "execution_count": 39,
   "metadata": {},
   "outputs": [],
   "source": [
    "# get Date of the each types\n",
    "# Usage : month_box, months = get_date_date(driver_name, \"Month\")\n",
    "\n",
    "def get_date_data(driver, type) :\n",
    "    date_group = driver.find_element(By.CLASS_NAME,\"form_group\")\n",
    "    type_box = date_group.find_elements(By.ID,\"search\" + type)[0]\n",
    "    data_list = type_box.find_elements(By.TAG_NAME,\"option\")\n",
    "    data_list = [data.text for data in data_list]\n",
    "    return type_box, data_list\n",
    "\n",
    "def next_page(driver) :\n",
    "    page = driver.find_element(By.CLASS_NAME,\"paginate\")\n",
    "    page.find_element(By.CLASS_NAME,\"last\").click()\n",
    "\n",
    "# daily auction data \n",
    "# usage : get_auction_list(driver, list, year, month, day)\n",
    "\n",
    "def add_auction_list(driver, add_list, year, month, day) :\n",
    "    auction_box = driver.find_element(By.TAG_NAME,\"tbody\")\n",
    "    auction_elements = auction_box.find_elements(By.TAG_NAME,\"tr\")\n",
    "    auction_rows = [auction_element.text.split(\" \") for auction_element in auction_elements]\n",
    "    [auction_row.append(year+\"-\"+month+\"-\"+day) for auction_row in auction_rows]\n",
    "    add_list.extend(auction_rows)\n",
    "\n",
    "def get_total_page(driver) :\n",
    "    page = driver.find_element(By.CLASS_NAME,\"paginate\")\n",
    "    return int(page.find_element(By.TAG_NAME,\"span\").text.split(\"/\")[1])\n",
    "\n",
    "def get_current_page(driver) :\n",
    "    page = driver.find_element(By.CLASS_NAME,\"paginate\")\n",
    "    return int(page.find_element(By.TAG_NAME,\"span\").text.split(\"/\")[0])"
   ]
  },
  {
   "cell_type": "code",
   "execution_count": 164,
   "metadata": {},
   "outputs": [],
   "source": [
    "monthly_auction_list = []\n",
    "\n",
    "date_group = Susansijang.find_element(By.CLASS_NAME,\"form_group\")\n",
    "\n",
    "year_box, years = get_date_data(Susansijang,\"Year\")\n",
    "month_box, months = get_date_data(Susansijang,\"Month\")\n",
    "day_box, days = get_date_data(Susansijang,\"Date\")\n",
    "y = -1\n",
    "\n",
    "for m in range(len(months)) :\n",
    "    month_box, months = get_date_data(Susansijang,\"Month\")\n",
    "    month_box.send_keys(months[m])\n",
    "    day_box, days = get_date_data(Susansijang,\"Date\")\n",
    "\n",
    "    for d in range(len(days)) :\n",
    "        day_box, days = get_date_data(Susansijang,\"Date\")\n",
    "        day_box.send_keys(days[d])\n",
    "\n",
    "        Susansijang.find_element(By.ID,\"searchBtn\").click()\n",
    "        time.sleep(0.2)\n",
    "\n",
    "        total_page = get_total_page(Susansijang)\n",
    "\n",
    "        daily_auction_list = []\n",
    "        for i in range(0, total_page) :\n",
    "            add_auction_list(Susansijang, daily_auction_list, years[y], months[m], days[d])\n",
    "            next_page(Susansijang)\n",
    "\n",
    "        df = pd.DataFrame(daily_auction_list)\n",
    "        try :\n",
    "            df = df[df.iloc[:, 9].isna()]\n",
    "            df.drop(columns=9, inplace=True)\n",
    "        except :\n",
    "            pass\n",
    "\n",
    "        file_path = \"./\"+years[y]+\"/\"+months[m]+\"/\"+years[y]+\"-\"+months[m]+\"-\"+days[d]+\".csv\"\n",
    "        os.makedirs(os.path.dirname(file_path), exist_ok=True)\n",
    "        df.to_csv(file_path, index=False, header=False)\n",
    "\n",
    "    time.sleep(0.2)"
   ]
  },
  {
   "cell_type": "code",
   "execution_count": 59,
   "metadata": {},
   "outputs": [],
   "source": [
    "Susansijang.quit()"
   ]
  }
 ],
 "metadata": {
  "kernelspec": {
   "display_name": "Python 3",
   "language": "python",
   "name": "python3"
  },
  "language_info": {
   "codemirror_mode": {
    "name": "ipython",
    "version": 3
   },
   "file_extension": ".py",
   "mimetype": "text/x-python",
   "name": "python",
   "nbconvert_exporter": "python",
   "pygments_lexer": "ipython3",
   "version": "3.10.12"
  }
 },
 "nbformat": 4,
 "nbformat_minor": 2
}
