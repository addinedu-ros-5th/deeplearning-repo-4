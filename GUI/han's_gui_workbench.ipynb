{
 "cells": [
  {
   "cell_type": "code",
   "execution_count": 4,
   "metadata": {},
   "outputs": [
    {
     "name": "stderr",
     "output_type": "stream",
     "text": [
      "/tmp/ipykernel_21548/621697402.py:4: DeprecationWarning: \n",
      "Pyarrow will become a required dependency of pandas in the next major release of pandas (pandas 3.0),\n",
      "(to allow more performant data types, such as the Arrow string type, and better interoperability with other libraries)\n",
      "but was not found to be installed on your system.\n",
      "If this would cause problems for you,\n",
      "please provide us feedback at https://github.com/pandas-dev/pandas/issues/54466\n",
      "        \n",
      "  import pandas as pd\n"
     ]
    }
   ],
   "source": [
    "import mysql.connector\n",
    "from mysql.connector import Error\n",
    "from db_connect import DB_CONFIG\n",
    "import pandas as pd\n",
    "import matplotlib.pyplot as plt\n",
    "import koreanize_matplotlib\n"
   ]
  },
  {
   "cell_type": "code",
   "execution_count": 5,
   "metadata": {},
   "outputs": [],
   "source": [
    "def connect_to_database():\n",
    "    global connection, cursor\n",
    "    try:\n",
    "        connection = mysql.connector.connect(\n",
    "            host=DB_CONFIG['host'],\n",
    "            database=DB_CONFIG['database'],\n",
    "            user=DB_CONFIG['user'],\n",
    "            password=DB_CONFIG['password']\n",
    "        )\n",
    "\n",
    "        if connection.is_connected():\n",
    "            print(\"Successfully connected to the database\")\n",
    "            cursor = connection.cursor()\n",
    "\n",
    "            cursor.execute(\"SHOW TABLES\")\n",
    "            tables = cursor.fetchall()\n",
    "            print(\"Tables in the database:\")\n",
    "            for table in tables:\n",
    "                print(table[0])\n",
    "\n",
    "            return connection\n",
    "\n",
    "    except Error as e:\n",
    "        print(f\"Error: {e}\")\n",
    "\n",
    "def search_query(query) :\n",
    "    cursor.execute(query)\n",
    "    rows = cursor.fetchall()\n",
    "    data_list = []\n",
    "    for row in rows :\n",
    "        data_list.append([*row])\n",
    "    return data_list"
   ]
  },
  {
   "cell_type": "code",
   "execution_count": 6,
   "metadata": {},
   "outputs": [
    {
     "name": "stdout",
     "output_type": "stream",
     "text": [
      "Successfully connected to the database\n",
      "Tables in the database:\n",
      "auction_price_data\n"
     ]
    },
    {
     "data": {
      "text/plain": [
       "<mysql.connector.connection_cext.CMySQLConnection at 0x76ce6e53f340>"
      ]
     },
     "execution_count": 6,
     "metadata": {},
     "output_type": "execute_result"
    }
   ],
   "source": [
    "connect_to_database()"
   ]
  },
  {
   "cell_type": "code",
   "execution_count": 9,
   "metadata": {},
   "outputs": [
    {
     "data": {
      "text/html": [
       "<div>\n",
       "<style scoped>\n",
       "    .dataframe tbody tr th:only-of-type {\n",
       "        vertical-align: middle;\n",
       "    }\n",
       "\n",
       "    .dataframe tbody tr th {\n",
       "        vertical-align: top;\n",
       "    }\n",
       "\n",
       "    .dataframe thead th {\n",
       "        text-align: right;\n",
       "    }\n",
       "</style>\n",
       "<table border=\"1\" class=\"dataframe\">\n",
       "  <thead>\n",
       "    <tr style=\"text-align: right;\">\n",
       "      <th></th>\n",
       "      <th>0</th>\n",
       "      <th>1</th>\n",
       "      <th>2</th>\n",
       "      <th>3</th>\n",
       "      <th>4</th>\n",
       "      <th>5</th>\n",
       "      <th>6</th>\n",
       "      <th>7</th>\n",
       "      <th>8</th>\n",
       "    </tr>\n",
       "  </thead>\n",
       "  <tbody>\n",
       "    <tr>\n",
       "      <th>0</th>\n",
       "      <td>(선)깐홍합</td>\n",
       "      <td>여수</td>\n",
       "      <td>소</td>\n",
       "      <td>box</td>\n",
       "      <td>426.0</td>\n",
       "      <td>13500.0</td>\n",
       "      <td>11000.0</td>\n",
       "      <td>12400.0</td>\n",
       "      <td>2011-01-03</td>\n",
       "    </tr>\n",
       "    <tr>\n",
       "      <th>1</th>\n",
       "      <td>(선)가자미</td>\n",
       "      <td>보령</td>\n",
       "      <td>24미</td>\n",
       "      <td>c/s(상자)</td>\n",
       "      <td>10.0</td>\n",
       "      <td>12000.0</td>\n",
       "      <td>12000.0</td>\n",
       "      <td>12000.0</td>\n",
       "      <td>2011-01-03</td>\n",
       "    </tr>\n",
       "    <tr>\n",
       "      <th>2</th>\n",
       "      <td>(활)농어</td>\n",
       "      <td>격포</td>\n",
       "      <td>중</td>\n",
       "      <td>kg</td>\n",
       "      <td>98.9</td>\n",
       "      <td>3700.0</td>\n",
       "      <td>3700.0</td>\n",
       "      <td>3700.0</td>\n",
       "      <td>2011-01-03</td>\n",
       "    </tr>\n",
       "    <tr>\n",
       "      <th>3</th>\n",
       "      <td>(선)깐굴</td>\n",
       "      <td>통영</td>\n",
       "      <td>중</td>\n",
       "      <td>box</td>\n",
       "      <td>10.0</td>\n",
       "      <td>40000.0</td>\n",
       "      <td>35000.0</td>\n",
       "      <td>37500.0</td>\n",
       "      <td>2011-01-03</td>\n",
       "    </tr>\n",
       "    <tr>\n",
       "      <th>4</th>\n",
       "      <td>(냉)갈치</td>\n",
       "      <td>중국</td>\n",
       "      <td>250/350</td>\n",
       "      <td>CT/(BT)</td>\n",
       "      <td>10.0</td>\n",
       "      <td>40000.0</td>\n",
       "      <td>40000.0</td>\n",
       "      <td>40000.0</td>\n",
       "      <td>2011-01-03</td>\n",
       "    </tr>\n",
       "  </tbody>\n",
       "</table>\n",
       "</div>"
      ],
      "text/plain": [
       "        0   1        2        3      4        5        6        7           8\n",
       "0  (선)깐홍합  여수        소      box  426.0  13500.0  11000.0  12400.0  2011-01-03\n",
       "1  (선)가자미  보령      24미  c/s(상자)   10.0  12000.0  12000.0  12000.0  2011-01-03\n",
       "2   (활)농어  격포        중       kg   98.9   3700.0   3700.0   3700.0  2011-01-03\n",
       "3   (선)깐굴  통영        중      box   10.0  40000.0  35000.0  37500.0  2011-01-03\n",
       "4   (냉)갈치  중국  250/350  CT/(BT)   10.0  40000.0  40000.0  40000.0  2011-01-03"
      ]
     },
     "execution_count": 9,
     "metadata": {},
     "output_type": "execute_result"
    }
   ],
   "source": [
    "query = \"\"\"\n",
    "SELECT * FROM auction_price_data ORDER BY date LIMIT 5;\n",
    "\"\"\"\n",
    "df = pd.DataFrame(search_query(query))\n",
    "df"
   ]
  },
  {
   "cell_type": "code",
   "execution_count": 63,
   "metadata": {},
   "outputs": [],
   "source": [
    "query = \"\"\"\n",
    "SELECT\n",
    "    species,\n",
    "    DATE_FORMAT(date, '%Y-%m') AS month,\n",
    "    SUM(quantity * average) AS total_amount,\n",
    "    SUM(quantity) AS total_quantity,\n",
    "    SUM(quantity * average) / SUM(quantity) AS monthly_weighted_average\n",
    "FROM\n",
    "    auction_price_data\n",
    "WHERE\n",
    "    species LIKE \"(활)암꽃게\" AND\n",
    "    date BETWEEN '2015-01-01' AND '2023-12-31'\n",
    "GROUP BY\n",
    "    species,\n",
    "    month\n",
    "ORDER BY\n",
    "    month;\n",
    "\"\"\""
   ]
  },
  {
   "cell_type": "code",
   "execution_count": 64,
   "metadata": {},
   "outputs": [
    {
     "data": {
      "text/html": [
       "<div>\n",
       "<style scoped>\n",
       "    .dataframe tbody tr th:only-of-type {\n",
       "        vertical-align: middle;\n",
       "    }\n",
       "\n",
       "    .dataframe tbody tr th {\n",
       "        vertical-align: top;\n",
       "    }\n",
       "\n",
       "    .dataframe thead th {\n",
       "        text-align: right;\n",
       "    }\n",
       "</style>\n",
       "<table border=\"1\" class=\"dataframe\">\n",
       "  <thead>\n",
       "    <tr style=\"text-align: right;\">\n",
       "      <th></th>\n",
       "      <th>species</th>\n",
       "      <th>month</th>\n",
       "      <th>total</th>\n",
       "      <th>quantity</th>\n",
       "      <th>average</th>\n",
       "    </tr>\n",
       "  </thead>\n",
       "  <tbody>\n",
       "    <tr>\n",
       "      <th>0</th>\n",
       "      <td>(활)암꽃게</td>\n",
       "      <td>2015-01</td>\n",
       "      <td>1.439637e+08</td>\n",
       "      <td>5674.000000</td>\n",
       "      <td>25372.523793</td>\n",
       "    </tr>\n",
       "    <tr>\n",
       "      <th>1</th>\n",
       "      <td>(활)암꽃게</td>\n",
       "      <td>2015-02</td>\n",
       "      <td>1.241000e+06</td>\n",
       "      <td>57.000000</td>\n",
       "      <td>21771.929825</td>\n",
       "    </tr>\n",
       "    <tr>\n",
       "      <th>2</th>\n",
       "      <td>(활)암꽃게</td>\n",
       "      <td>2015-03</td>\n",
       "      <td>2.145008e+08</td>\n",
       "      <td>8891.000000</td>\n",
       "      <td>24125.610168</td>\n",
       "    </tr>\n",
       "    <tr>\n",
       "      <th>3</th>\n",
       "      <td>(활)암꽃게</td>\n",
       "      <td>2015-04</td>\n",
       "      <td>2.032529e+09</td>\n",
       "      <td>93644.000000</td>\n",
       "      <td>21704.852420</td>\n",
       "    </tr>\n",
       "    <tr>\n",
       "      <th>4</th>\n",
       "      <td>(활)암꽃게</td>\n",
       "      <td>2015-05</td>\n",
       "      <td>2.611885e+09</td>\n",
       "      <td>105593.500000</td>\n",
       "      <td>24735.283895</td>\n",
       "    </tr>\n",
       "    <tr>\n",
       "      <th>5</th>\n",
       "      <td>(활)암꽃게</td>\n",
       "      <td>2015-06</td>\n",
       "      <td>9.140485e+08</td>\n",
       "      <td>44158.900024</td>\n",
       "      <td>20699.077874</td>\n",
       "    </tr>\n",
       "    <tr>\n",
       "      <th>6</th>\n",
       "      <td>(활)암꽃게</td>\n",
       "      <td>2015-08</td>\n",
       "      <td>1.758450e+07</td>\n",
       "      <td>2010.000000</td>\n",
       "      <td>8748.507463</td>\n",
       "    </tr>\n",
       "    <tr>\n",
       "      <th>7</th>\n",
       "      <td>(활)암꽃게</td>\n",
       "      <td>2015-09</td>\n",
       "      <td>3.894965e+08</td>\n",
       "      <td>36696.000000</td>\n",
       "      <td>10614.140506</td>\n",
       "    </tr>\n",
       "    <tr>\n",
       "      <th>8</th>\n",
       "      <td>(활)암꽃게</td>\n",
       "      <td>2015-10</td>\n",
       "      <td>2.060290e+09</td>\n",
       "      <td>170779.000000</td>\n",
       "      <td>12064.070231</td>\n",
       "    </tr>\n",
       "    <tr>\n",
       "      <th>9</th>\n",
       "      <td>(활)암꽃게</td>\n",
       "      <td>2015-11</td>\n",
       "      <td>3.996424e+08</td>\n",
       "      <td>17162.000000</td>\n",
       "      <td>23286.470108</td>\n",
       "    </tr>\n",
       "  </tbody>\n",
       "</table>\n",
       "</div>"
      ],
      "text/plain": [
       "  species    month         total       quantity       average\n",
       "0  (활)암꽃게  2015-01  1.439637e+08    5674.000000  25372.523793\n",
       "1  (활)암꽃게  2015-02  1.241000e+06      57.000000  21771.929825\n",
       "2  (활)암꽃게  2015-03  2.145008e+08    8891.000000  24125.610168\n",
       "3  (활)암꽃게  2015-04  2.032529e+09   93644.000000  21704.852420\n",
       "4  (활)암꽃게  2015-05  2.611885e+09  105593.500000  24735.283895\n",
       "5  (활)암꽃게  2015-06  9.140485e+08   44158.900024  20699.077874\n",
       "6  (활)암꽃게  2015-08  1.758450e+07    2010.000000   8748.507463\n",
       "7  (활)암꽃게  2015-09  3.894965e+08   36696.000000  10614.140506\n",
       "8  (활)암꽃게  2015-10  2.060290e+09  170779.000000  12064.070231\n",
       "9  (활)암꽃게  2015-11  3.996424e+08   17162.000000  23286.470108"
      ]
     },
     "execution_count": 64,
     "metadata": {},
     "output_type": "execute_result"
    }
   ],
   "source": [
    "df = pd.DataFrame(search_query(query))\n",
    "df.columns = ['species', 'month', 'total', 'quantity', 'average']\n",
    "df.head(10)"
   ]
  },
  {
   "cell_type": "code",
   "execution_count": null,
   "metadata": {},
   "outputs": [],
   "source": [
    "# df.columns = ['species', 'origin', 'size', 'packaging', 'quantity', 'highest', 'lowest', 'average', 'date']"
   ]
  },
  {
   "cell_type": "code",
   "execution_count": 65,
   "metadata": {},
   "outputs": [
    {
     "ename": "AttributeError",
     "evalue": "'DataFrame' object has no attribute 'append'",
     "output_type": "error",
     "traceback": [
      "\u001b[0;31m---------------------------------------------------------------------------\u001b[0m",
      "\u001b[0;31mAttributeError\u001b[0m                            Traceback (most recent call last)",
      "\u001b[0;32m/tmp/ipykernel_16406/1024094596.py\u001b[0m in \u001b[0;36m?\u001b[0;34m()\u001b[0m\n\u001b[1;32m      1\u001b[0m \u001b[0;32mimport\u001b[0m \u001b[0mmatplotlib\u001b[0m\u001b[0;34m.\u001b[0m\u001b[0mpyplot\u001b[0m \u001b[0;32mas\u001b[0m \u001b[0mplt\u001b[0m\u001b[0;34m\u001b[0m\u001b[0;34m\u001b[0m\u001b[0m\n\u001b[1;32m      2\u001b[0m \u001b[0;34m\u001b[0m\u001b[0m\n\u001b[1;32m      3\u001b[0m \u001b[0mplt\u001b[0m\u001b[0;34m.\u001b[0m\u001b[0mfigure\u001b[0m\u001b[0;34m(\u001b[0m\u001b[0mfigsize\u001b[0m\u001b[0;34m=\u001b[0m\u001b[0;34m(\u001b[0m\u001b[0;36m18\u001b[0m\u001b[0;34m,\u001b[0m \u001b[0;36m4\u001b[0m\u001b[0;34m)\u001b[0m\u001b[0;34m)\u001b[0m\u001b[0;34m\u001b[0m\u001b[0;34m\u001b[0m\u001b[0m\n\u001b[1;32m      4\u001b[0m \u001b[0;32mif\u001b[0m \u001b[0;32mnot\u001b[0m \u001b[0many\u001b[0m\u001b[0;34m(\u001b[0m\u001b[0maverage_prices\u001b[0m\u001b[0;34m[\u001b[0m\u001b[0;34m'month_year'\u001b[0m\u001b[0;34m]\u001b[0m\u001b[0;34m.\u001b[0m\u001b[0mstr\u001b[0m\u001b[0;34m.\u001b[0m\u001b[0mendswith\u001b[0m\u001b[0;34m(\u001b[0m\u001b[0;34m'-07'\u001b[0m\u001b[0;34m)\u001b[0m\u001b[0;34m)\u001b[0m\u001b[0;34m:\u001b[0m\u001b[0;34m\u001b[0m\u001b[0;34m\u001b[0m\u001b[0m\n\u001b[0;32m----> 5\u001b[0;31m     \u001b[0maverage_prices\u001b[0m \u001b[0;34m=\u001b[0m \u001b[0maverage_prices\u001b[0m\u001b[0;34m.\u001b[0m\u001b[0mappend\u001b[0m\u001b[0;34m(\u001b[0m\u001b[0;34m{\u001b[0m\u001b[0;34m'month_year'\u001b[0m\u001b[0;34m:\u001b[0m \u001b[0;34m'2023-07'\u001b[0m\u001b[0;34m,\u001b[0m \u001b[0;34m'average'\u001b[0m\u001b[0;34m:\u001b[0m \u001b[0;36m0\u001b[0m\u001b[0;34m}\u001b[0m\u001b[0;34m,\u001b[0m \u001b[0mignore_index\u001b[0m\u001b[0;34m=\u001b[0m\u001b[0;32mTrue\u001b[0m\u001b[0;34m)\u001b[0m\u001b[0;34m\u001b[0m\u001b[0;34m\u001b[0m\u001b[0m\n\u001b[0m\u001b[1;32m      6\u001b[0m \u001b[0mplt\u001b[0m\u001b[0;34m.\u001b[0m\u001b[0mplot\u001b[0m\u001b[0;34m(\u001b[0m\u001b[0maverage_prices\u001b[0m\u001b[0;34m[\u001b[0m\u001b[0;34m'month_year'\u001b[0m\u001b[0;34m]\u001b[0m\u001b[0;34m,\u001b[0m \u001b[0maverage_prices\u001b[0m\u001b[0;34m[\u001b[0m\u001b[0;34m'average'\u001b[0m\u001b[0;34m]\u001b[0m\u001b[0;34m,\u001b[0m \u001b[0mmarker\u001b[0m\u001b[0;34m=\u001b[0m\u001b[0;34m'o'\u001b[0m\u001b[0;34m)\u001b[0m\u001b[0;34m\u001b[0m\u001b[0;34m\u001b[0m\u001b[0m\n\u001b[1;32m      7\u001b[0m \u001b[0mplt\u001b[0m\u001b[0;34m.\u001b[0m\u001b[0mtitle\u001b[0m\u001b[0;34m(\u001b[0m\u001b[0;34m'물품들의 날짜별 평균 가격 변화'\u001b[0m\u001b[0;34m)\u001b[0m\u001b[0;34m\u001b[0m\u001b[0;34m\u001b[0m\u001b[0m\n\u001b[1;32m      8\u001b[0m \u001b[0mplt\u001b[0m\u001b[0;34m.\u001b[0m\u001b[0mxlabel\u001b[0m\u001b[0;34m(\u001b[0m\u001b[0;34m'날짜'\u001b[0m\u001b[0;34m)\u001b[0m\u001b[0;34m\u001b[0m\u001b[0;34m\u001b[0m\u001b[0m\n",
      "\u001b[0;32m~/venv/myvenv/lib/python3.10/site-packages/pandas/core/generic.py\u001b[0m in \u001b[0;36m?\u001b[0;34m(self, name)\u001b[0m\n\u001b[1;32m   6289\u001b[0m             \u001b[0;32mand\u001b[0m \u001b[0mname\u001b[0m \u001b[0;32mnot\u001b[0m \u001b[0;32min\u001b[0m \u001b[0mself\u001b[0m\u001b[0;34m.\u001b[0m\u001b[0m_accessors\u001b[0m\u001b[0;34m\u001b[0m\u001b[0;34m\u001b[0m\u001b[0m\n\u001b[1;32m   6290\u001b[0m             \u001b[0;32mand\u001b[0m \u001b[0mself\u001b[0m\u001b[0;34m.\u001b[0m\u001b[0m_info_axis\u001b[0m\u001b[0;34m.\u001b[0m\u001b[0m_can_hold_identifiers_and_holds_name\u001b[0m\u001b[0;34m(\u001b[0m\u001b[0mname\u001b[0m\u001b[0;34m)\u001b[0m\u001b[0;34m\u001b[0m\u001b[0;34m\u001b[0m\u001b[0m\n\u001b[1;32m   6291\u001b[0m         ):\n\u001b[1;32m   6292\u001b[0m             \u001b[0;32mreturn\u001b[0m \u001b[0mself\u001b[0m\u001b[0;34m[\u001b[0m\u001b[0mname\u001b[0m\u001b[0;34m]\u001b[0m\u001b[0;34m\u001b[0m\u001b[0;34m\u001b[0m\u001b[0m\n\u001b[0;32m-> 6293\u001b[0;31m         \u001b[0;32mreturn\u001b[0m \u001b[0mobject\u001b[0m\u001b[0;34m.\u001b[0m\u001b[0m__getattribute__\u001b[0m\u001b[0;34m(\u001b[0m\u001b[0mself\u001b[0m\u001b[0;34m,\u001b[0m \u001b[0mname\u001b[0m\u001b[0;34m)\u001b[0m\u001b[0;34m\u001b[0m\u001b[0;34m\u001b[0m\u001b[0m\n\u001b[0m",
      "\u001b[0;31mAttributeError\u001b[0m: 'DataFrame' object has no attribute 'append'"
     ]
    },
    {
     "data": {
      "text/plain": [
       "<Figure size 1800x400 with 0 Axes>"
      ]
     },
     "metadata": {},
     "output_type": "display_data"
    }
   ],
   "source": [
    "import matplotlib.pyplot as plt\n",
    "\n",
    "plt.figure(figsize=(18, 4))\n",
    "plt.plot(average_prices['month_year'], average_prices['average'], marker='o')\n",
    "plt.title('물품들의 날짜별 평균 가격 변화')\n",
    "plt.xlabel('날짜')\n",
    "plt.ylabel('평균가')\n",
    "plt.ylim(0,50000)\n",
    "plt.grid(True)\n",
    "xticks = average_prices['month_year'][::2]\n",
    "plt.xticks(xticks, rotation=90)\n",
    "plt.tight_layout()\n",
    "plt.show()"
   ]
  },
  {
   "cell_type": "code",
   "execution_count": 61,
   "metadata": {},
   "outputs": [
    {
     "name": "stdout",
     "output_type": "stream",
     "text": [
      "MySQL connection is closed\n"
     ]
    }
   ],
   "source": [
    "if connection.is_connected():\n",
    "    connection.close()\n",
    "    print(\"MySQL connection is closed\")"
   ]
  },
  {
   "cell_type": "code",
   "execution_count": null,
   "metadata": {},
   "outputs": [],
   "source": [
    "all_months = pd.date_range(start=average_prices['month_year'].min(), end=average_prices['month_year'].max(), freq='MS')\n",
    "average_prices_reindexed = average_prices.set_index('month_year').reindex(all_months).reset_index()\n",
    "\n",
    "# 누락된 월을 0으로 채움 (또는 다른 값으로 채움)\n",
    "average_prices_reindexed['average'].fillna(0, inplace=True)\n",
    "\n",
    "plt.figure(figsize=(18, 4))\n",
    "plt.plot(average_prices_reindexed['month_year'], average_prices_reindexed['average'], marker='o')\n",
    "plt.title('물품들의 날짜별 평균 가격 변화')\n",
    "plt.xlabel('날짜')\n",
    "plt.ylabel('평균가')\n",
    "plt.ylim(0, 50000)\n",
    "plt.grid(True)\n",
    "xticks = average_prices_reindexed['month_year'][::2]\n",
    "plt.xticks(xticks, rotation=90)\n",
    "plt.tight_layout()\n",
    "plt.show()"
   ]
  },
  {
   "cell_type": "code",
   "execution_count": null,
   "metadata": {},
   "outputs": [],
   "source": []
  }
 ],
 "metadata": {
  "kernelspec": {
   "display_name": "myvenv",
   "language": "python",
   "name": "python3"
  },
  "language_info": {
   "codemirror_mode": {
    "name": "ipython",
    "version": 3
   },
   "file_extension": ".py",
   "mimetype": "text/x-python",
   "name": "python",
   "nbconvert_exporter": "python",
   "pygments_lexer": "ipython3",
   "version": "3.10.12"
  }
 },
 "nbformat": 4,
 "nbformat_minor": 2
}
