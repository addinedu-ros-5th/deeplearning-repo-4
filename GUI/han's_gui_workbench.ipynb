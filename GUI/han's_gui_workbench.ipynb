{
 "cells": [
  {
   "cell_type": "code",
   "execution_count": 8,
   "metadata": {},
   "outputs": [],
   "source": [
    "import mysql.connector\n",
    "from mysql.connector import Error\n",
    "from db_connect import DB_CONFIG\n",
    "\n",
    "\n",
    "def connect_to_database():\n",
    "    global connection, cursor\n",
    "    try:\n",
    "        connection = mysql.connector.connect(\n",
    "            host=DB_CONFIG['host'],\n",
    "            database=DB_CONFIG['database'],\n",
    "            user=DB_CONFIG['user'],\n",
    "            password=DB_CONFIG['password']\n",
    "        )\n",
    "\n",
    "        if connection.is_connected():\n",
    "            print(\"Successfully connected to the database\")\n",
    "            cursor = connection.cursor()\n",
    "\n",
    "            cursor.execute(\"SHOW TABLES\")\n",
    "            tables = cursor.fetchall()\n",
    "            print(\"Tables in the database:\")\n",
    "            for table in tables:\n",
    "                print(table[0])\n",
    "\n",
    "            return connection\n",
    "\n",
    "    except Error as e:\n",
    "        print(f\"Error: {e}\")\n",
    "\n",
    "connect_to_database()"
   ]
  },
  {
   "cell_type": "code",
   "execution_count": 52,
   "metadata": {},
   "outputs": [],
   "source": [
    "def search_query(query) :\n",
    "    cursor.execute(query)\n",
    "    rows = cursor.fetchall()\n",
    "    data_list = []\n",
    "    for row in rows :\n",
    "        data_list.append([*row])\n",
    "    return data_list"
   ]
  },
  {
   "cell_type": "code",
   "execution_count": 55,
   "metadata": {},
   "outputs": [],
   "source": [
    "query = \"SELECT * FROM auction_price_data ORDER BY date LIMIT 3\"\n",
    "search_query(query);"
   ]
  },
  {
   "cell_type": "code",
   "execution_count": 56,
   "metadata": {},
   "outputs": [
    {
     "data": {
      "text/html": [
       "<div>\n",
       "<style scoped>\n",
       "    .dataframe tbody tr th:only-of-type {\n",
       "        vertical-align: middle;\n",
       "    }\n",
       "\n",
       "    .dataframe tbody tr th {\n",
       "        vertical-align: top;\n",
       "    }\n",
       "\n",
       "    .dataframe thead th {\n",
       "        text-align: right;\n",
       "    }\n",
       "</style>\n",
       "<table border=\"1\" class=\"dataframe\">\n",
       "  <thead>\n",
       "    <tr style=\"text-align: right;\">\n",
       "      <th></th>\n",
       "      <th>0</th>\n",
       "      <th>1</th>\n",
       "      <th>2</th>\n",
       "      <th>3</th>\n",
       "      <th>4</th>\n",
       "      <th>5</th>\n",
       "      <th>6</th>\n",
       "      <th>7</th>\n",
       "      <th>8</th>\n",
       "    </tr>\n",
       "  </thead>\n",
       "  <tbody>\n",
       "    <tr>\n",
       "      <th>0</th>\n",
       "      <td>(선)갑오징어</td>\n",
       "      <td>여수</td>\n",
       "      <td>10미</td>\n",
       "      <td>box</td>\n",
       "      <td>5.0</td>\n",
       "      <td>47500.0</td>\n",
       "      <td>47500.0</td>\n",
       "      <td>47500.0</td>\n",
       "      <td>2018-01-02</td>\n",
       "    </tr>\n",
       "    <tr>\n",
       "      <th>1</th>\n",
       "      <td>(선)깐홍합</td>\n",
       "      <td>여수</td>\n",
       "      <td>소</td>\n",
       "      <td>box</td>\n",
       "      <td>478.0</td>\n",
       "      <td>9000.0</td>\n",
       "      <td>3000.0</td>\n",
       "      <td>7200.0</td>\n",
       "      <td>2018-01-02</td>\n",
       "    </tr>\n",
       "    <tr>\n",
       "      <th>2</th>\n",
       "      <td>(선)간재미</td>\n",
       "      <td>군산</td>\n",
       "      <td>중</td>\n",
       "      <td>kg</td>\n",
       "      <td>425.0</td>\n",
       "      <td>2000.0</td>\n",
       "      <td>700.0</td>\n",
       "      <td>900.0</td>\n",
       "      <td>2018-01-02</td>\n",
       "    </tr>\n",
       "  </tbody>\n",
       "</table>\n",
       "</div>"
      ],
      "text/plain": [
       "         0   1    2    3      4        5        6        7           8\n",
       "0  (선)갑오징어  여수  10미  box    5.0  47500.0  47500.0  47500.0  2018-01-02\n",
       "1   (선)깐홍합  여수    소  box  478.0   9000.0   3000.0   7200.0  2018-01-02\n",
       "2   (선)간재미  군산    중   kg  425.0   2000.0    700.0    900.0  2018-01-02"
      ]
     },
     "execution_count": 56,
     "metadata": {},
     "output_type": "execute_result"
    }
   ],
   "source": [
    "import pandas as pd\n",
    "df = pd.DataFrame(search_query(query))\n",
    "df"
   ]
  },
  {
   "cell_type": "code",
   "execution_count": 6,
   "metadata": {},
   "outputs": [
    {
     "name": "stdout",
     "output_type": "stream",
     "text": [
      "MySQL connection is closed\n"
     ]
    }
   ],
   "source": [
    "if connection.is_connected():\n",
    "    connection.close()\n",
    "    print(\"MySQL connection is closed\")"
   ]
  },
  {
   "cell_type": "code",
   "execution_count": null,
   "metadata": {},
   "outputs": [],
   "source": []
  }
 ],
 "metadata": {
  "kernelspec": {
   "display_name": "myvenv",
   "language": "python",
   "name": "python3"
  },
  "language_info": {
   "codemirror_mode": {
    "name": "ipython",
    "version": 3
   },
   "file_extension": ".py",
   "mimetype": "text/x-python",
   "name": "python",
   "nbconvert_exporter": "python",
   "pygments_lexer": "ipython3",
   "version": "3.10.12"
  }
 },
 "nbformat": 4,
 "nbformat_minor": 2
}
